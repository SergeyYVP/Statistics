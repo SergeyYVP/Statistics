{
 "cells": [
  {
   "cell_type": "markdown",
   "metadata": {},
   "source": [
    "# Домашняя работа №2"
   ]
  },
  {
   "cell_type": "code",
   "execution_count": 275,
   "metadata": {},
   "outputs": [],
   "source": [
    "import pandas as pd\n",
    "import scipy.stats as sts\n",
    "import numpy as np\n",
    "import math\n",
    "\n",
    "import seaborn as sns\n",
    "from sklearn import datasets\n",
    "from matplotlib import pyplot as plt\n",
    "from statsmodels.distributions.empirical_distribution import ECDF"
   ]
  },
  {
   "cell_type": "markdown",
   "metadata": {},
   "source": [
    "## Генеральная совокупность и выборка"
   ]
  },
  {
   "cell_type": "markdown",
   "metadata": {},
   "source": [
    "- Чем отличается генеральная совокупность от выборки?"
   ]
  },
  {
   "cell_type": "markdown",
   "metadata": {},
   "source": [
    "Генеральная совокупность - совокупность всех объектов, у которых требуется изучить  какой-либо количественный или качественный признак.<br>\n",
    "Т.к. изучение всей совокупности невозможно, либо затратно, то на практике изучают часть генеральной совокупности:<br>\n",
    "выборку - отобранную для изучения часть генеральной совокупности."
   ]
  },
  {
   "cell_type": "code",
   "execution_count": null,
   "metadata": {},
   "outputs": [],
   "source": []
  },
  {
   "cell_type": "markdown",
   "metadata": {},
   "source": [
    "- Если размер выборки больше 200, то такая выборка является репрезентативной?"
   ]
  },
  {
   "cell_type": "markdown",
   "metadata": {},
   "source": [
    "В общем случае ответить на данный вопрос нельзя. Выборка является репрезентативной, если она хорошо представляет генеральной совокупность. Что зависит, не только от ее объема, объема генеральной совокупности, но и от того, как эта выборка формировалась, параметров генеральной совокупности и т.д. Объема данной выборки может хватить для относительно небольших групп (студенты института, рабочие завода и т.д.), но для более больших масштабов (город, регион, страна) данного объема уже не хватит."
   ]
  },
  {
   "cell_type": "code",
   "execution_count": null,
   "metadata": {},
   "outputs": [],
   "source": []
  },
  {
   "cell_type": "markdown",
   "metadata": {},
   "source": [
    "- Измерили длину волос футболистов сборной Франции на ЧМ-2018. Что могло являться генеральной совокупностью? Приведите 3 примера."
   ]
  },
  {
   "cell_type": "markdown",
   "metadata": {},
   "source": [
    "Генеральная совокупность: <br>\n",
    "1) Делегация сборной Франции, включая футболистов, тренеров и т.д. <br>\n",
    "2) Футболисты группы в которую входила сборная Франции. <br>\n",
    "3) Футболисты всех сборных, принявших участие в ЧМ-2018"
   ]
  },
  {
   "cell_type": "code",
   "execution_count": null,
   "metadata": {},
   "outputs": [],
   "source": []
  },
  {
   "cell_type": "markdown",
   "metadata": {},
   "source": [
    "- Пусть генеральная совокупность --- вес детей, родившихся в Волгограде за последние 10 лет. Предложите 2 стратегии, как сгенерировать выборку."
   ]
  },
  {
   "cell_type": "markdown",
   "metadata": {},
   "source": [
    "I. Разделяем выборку по годам и полу и из каждой группы случайым образом формируем выборку. Затем объединяем полученный выборки для дальнейшего изучения.<br>\n",
    "II. Разделяем выборку по роддомам и полу и из каждой группы случайым образом формируем выборку. Затем объединяем полученный выборки для дальнейшего изучения."
   ]
  },
  {
   "cell_type": "markdown",
   "metadata": {},
   "source": [
    "## Параметры центра и разброса"
   ]
  },
  {
   "cell_type": "markdown",
   "metadata": {},
   "source": [
    "- Постройте распределение, у которого отсутствует мода.\n"
   ]
  },
  {
   "cell_type": "code",
   "execution_count": 276,
   "metadata": {},
   "outputs": [
    {
     "data": {
      "text/plain": [
       "Text(0.5,0,'$x$')"
      ]
     },
     "execution_count": 276,
     "metadata": {},
     "output_type": "execute_result"
    },
    {
     "data": {
      "image/png": "[encoded data removed]",
      "text/plain": [
       "<Figure size 432x288 with 1 Axes>"
      ]
     },
     "metadata": {
      "needs_background": "light"
     },
     "output_type": "display_data"
    }
   ],
   "source": [
    "# У равномерного распределения на отрезке, все значения, принадлежащие данному отрезку -\n",
    "# равновероятны. Соответственно, можно сказать, что у данного распределения отсутствует\n",
    "# мода, либо можно сказать, что любое значение на отрезке является модой.\n",
    "\n",
    "uniform_rv = sts.uniform(1, 4)\n",
    "x = np.linspace(0, 6, 110)\n",
    "uniform_pdf = uniform_rv.pdf(x)\n",
    "\n",
    "plt.plot(x, uniform_pdf)\n",
    "\n",
    "\n",
    "plt.title('Плотность вероятности для непрерывного равномерного рапспределения на отрезке [1, 5]')\n",
    "plt.legend(['a=1, b=5'])\n",
    "plt.ylabel('$f(x)$')\n",
    "plt.xlabel('$x$')"
   ]
  },
  {
   "cell_type": "markdown",
   "metadata": {},
   "source": [
    "- Какая из статистик (медиана, матожидание) будет наиболее неустойчивой при выбросах? Проверить на выборке из Гамма-распределения. "
   ]
  },
  {
   "cell_type": "code",
   "execution_count": 277,
   "metadata": {},
   "outputs": [],
   "source": [
    "# Матожидание - более неустойчивое к выбросам, чем медиана.\n",
    "# Т.к. при появлении выбросов, медиана смещается на количество \n",
    "# выбросов в вариационном ряду. Что не должно сильно изменить\n",
    "# ее значение. В то время как средневзвешенное значение (мат. ожид.)\n",
    "# может сильно измениться с появлением выбросов.\n",
    "\n",
    "\n",
    "n = 51\n",
    "gamma_rv = sts.gamma(3, 1)\n",
    "sample = gamma_rv.rvs(n)\n",
    "sample.sort()\n",
    "med = np.median(sample)\n",
    "mean = sample.mean()"
   ]
  },
  {
   "cell_type": "code",
   "execution_count": 278,
   "metadata": {
    "scrolled": true
   },
   "outputs": [
    {
     "name": "stdout",
     "output_type": "stream",
     "text": [
      "Мат. ожидание без выброса/с выбросом \t3.94722 / 4.83904\n",
      "Разница мат. ожиданий \t\t\t0.89182\n",
      "\n",
      "Медиана без выброса/с выбросом \t\t3.49476 / 3.77005\n",
      "Разница медиан \t\t\t\t0.27528\n"
     ]
    }
   ],
   "source": [
    "overshoot = [18, 20, 22]\n",
    "\n",
    "sample_with_overshoot = np.append(sample, overshoot)\n",
    "sample_with_overshoot.sort()\n",
    "new_mean = sample_with_overshoot.mean()\n",
    "new_med = np.median(sample_with_overshoot)\n",
    "\n",
    "print(f'Мат. ожидание без выброса/с выбросом \\t{mean:.5f} / {new_mean:.5f}')\n",
    "print(f'Разница мат. ожиданий \\t\\t\\t{(new_mean - mean):.5f}\\n')\n",
    "print(f'Медиана без выброса/с выбросом \\t\\t{med:.5f} / {new_med:.5f}')\n",
    "print(f'Разница медиан \\t\\t\\t\\t{(new_med - med):.5f}')"
   ]
  },
  {
   "cell_type": "markdown",
   "metadata": {},
   "source": [
    "- Как изменится матожидание, если к выборке добавить константу $C$? Умножить на $C$. \n",
    "\n",
    "Проверите на выборке из распределения Пуассона"
   ]
  },
  {
   "cell_type": "code",
   "execution_count": 306,
   "metadata": {},
   "outputs": [
    {
     "name": "stdout",
     "output_type": "stream",
     "text": [
      "Мат. ожидание выборки \t\t1.97\n",
      "Мат. ожидание выборки + 0.5 \t2.47\n",
      "Мат. ожидание выборки * 0.5 \t0.985\n"
     ]
    }
   ],
   "source": [
    "# Если к выборке добавить константу 𝐶, мат. ожидание изменится на C (MX + C).\n",
    "# Если выборку умножить на константу 𝐶, мат. ожидание изменится в C раз (MX*C).\n",
    "\n",
    "pois_rv = sts.poisson(2)\n",
    "sample = pois_rv.rvs(100)\n",
    "C = 0.5\n",
    "#your code here\n",
    "mean = sample.mean()\n",
    "mean_with_c = (sample + C).mean()\n",
    "mean_mult_c = (sample*C).mean()\n",
    "\n",
    "print(f'Мат. ожидание выборки \\t\\t{mean}')\n",
    "print(f'Мат. ожидание выборки + {C} \\t{mean_with_c}')\n",
    "print(f'Мат. ожидание выборки * {C} \\t{mean_mult_c}')"
   ]
  },
  {
   "cell_type": "markdown",
   "metadata": {},
   "source": [
    "- Как изменится дисперсия при добавлении выбросов? Проверьте для распределения экспоненциального распределения"
   ]
  },
  {
   "cell_type": "code",
   "execution_count": 280,
   "metadata": {},
   "outputs": [
    {
     "name": "stdout",
     "output_type": "stream",
     "text": [
      "Дисперсия без выбросов / с выбросом \t1.0146 / 3.7240\n"
     ]
    }
   ],
   "source": [
    "# Дисперсия значительно увеличивается с добавлением выбросов\n",
    "\n",
    "exp_rv = sts.expon(4)\n",
    "sample = exp_rv.rvs(50)\n",
    "var = sample.var()\n",
    "\n",
    "\n",
    "#your code here\n",
    "overshoot = [12, 15]\n",
    "sample_with_overshoot = np.append(sample, overshoot)\n",
    "new_var = sample_with_overshoot.var()\n",
    "\n",
    "print(f'Дисперсия без выбросов / с выбросом \\t{var:.4f} / {new_var:.4f}')"
   ]
  },
  {
   "cell_type": "markdown",
   "metadata": {},
   "source": [
    "- Что шире: интерквантильный размах ($X_{0.75} - X_{0.25}$) или $(\\bar{X}-s, \\bar{X}+s)$ для $\\mathcal{N}(a, \\sigma^2)$. Посчитайте и сравните эти интервалы для распредения $\\mathcal{N}(3,1)$"
   ]
  },
  {
   "cell_type": "markdown",
   "metadata": {},
   "source": [
    "Т.к. интерквантильный размах включает в себя 50% значений, а интервал в 1 сигму $\\approx$ 68%.<br>\n",
    "То интервал $(\\bar{X}-s, \\bar{X}+s)$ будет шире.\n",
    "\n"
   ]
  },
  {
   "cell_type": "code",
   "execution_count": 281,
   "metadata": {},
   "outputs": [
    {
     "name": "stdout",
     "output_type": "stream",
     "text": [
      "Интерквантильный размах 1.4488649591502338\n",
      "Интервал ±σ \t\t2.140855660614104\n"
     ]
    }
   ],
   "source": [
    "norm_rv = sts.norm(3,1)\n",
    "sample = norm_rv.rvs(1000)\n",
    "\n",
    "IQR = sts.iqr(sample)\n",
    "one_sigma_range = 2*sample.var()**0.5\n",
    "print(fr'Интерквантильный размах {IQR}')\n",
    "print(f'Интервал \\u00B1\\u03C3 \\t\\t{one_sigma_range}')"
   ]
  },
  {
   "cell_type": "markdown",
   "metadata": {},
   "source": [
    "## Основные статистики и ЦПТ"
   ]
  },
  {
   "cell_type": "markdown",
   "metadata": {},
   "source": [
    "- Что такое статистика? Посчитайте любую для бета-распределения (1,3)"
   ]
  },
  {
   "cell_type": "code",
   "execution_count": 282,
   "metadata": {},
   "outputs": [
    {
     "name": "stdout",
     "output_type": "stream",
     "text": [
      "Выборочное среднее                  0.24682\n",
      "Исправленная выборочная дисперсия   0.04274\n",
      "Медиана                             0.16532\n"
     ]
    }
   ],
   "source": [
    "# Статистика - это некоторя функция от результатов наблюдений над случайной величиной выборки.\n",
    "# Например: выборочное среднее, исправленная выборочная дисперсия, медиана.\n",
    "\n",
    "n = 50\n",
    "beta_rv = sts.beta(1,3)\n",
    "sample = beta_rv.rvs(n)\n",
    "sample.sort()\n",
    "mean = np.sum(sample)/len(sample)\n",
    "s_sq = np.sum([(x-mean)**2 for x in sample])/(n-1)\n",
    "median = (sample[n//2-1]+sample[n//2])/2\n",
    "\n",
    "# Или:\n",
    "# mean = sample.mean(), \n",
    "# s_sq = sample.var(ddof=1), \n",
    "# median = np.median(sample)\n",
    "\n",
    "print('{:<35} {:.5f}'.format('Выборочное среднее', mean))\n",
    "print('{:<35} {:.5f}'.format('Исправленная выборочная дисперсия', s_sq))\n",
    "print('{:<35} {:.5f}'.format('Медиана', median))"
   ]
  },
  {
   "cell_type": "code",
   "execution_count": null,
   "metadata": {},
   "outputs": [],
   "source": []
  },
  {
   "cell_type": "markdown",
   "metadata": {},
   "source": [
    "- Какие статистики являются оценками матожидания, медианы и дисперсии? Посчитайте их для гамма-распределения с параметрами (2, 2)"
   ]
  },
  {
   "cell_type": "code",
   "execution_count": 283,
   "metadata": {},
   "outputs": [
    {
     "name": "stdout",
     "output_type": "stream",
     "text": [
      "Выборочное среднее                  4.06788\n",
      "Исправленная выборочная дисперсия   2.29332\n",
      "Медиана                             3.71988\n"
     ]
    }
   ],
   "source": [
    "# Оценкой мат. ожидания является выборочное среднее, медианы - медиана выборки,\n",
    "# дисперсии - выборочная дисперсия (или исправленная выборочная дисперсия).\n",
    "\n",
    "gamma_rv = sts.gamma(2,2)\n",
    "sample = gamma_rv.rvs(50)\n",
    "\n",
    "#your code here\n",
    "mean = sample.mean()\n",
    "var = sample.var(ddof=1)\n",
    "med = np.median(sample)\n",
    "print('{:<35} {:.5f}'.format('Выборочное среднее', mean))\n",
    "print('{:<35} {:.5f}'.format('Исправленная выборочная дисперсия', var))\n",
    "print('{:<35} {:.5f}'.format('Медиана', med))"
   ]
  },
  {
   "cell_type": "code",
   "execution_count": null,
   "metadata": {},
   "outputs": [],
   "source": []
  },
  {
   "cell_type": "markdown",
   "metadata": {},
   "source": [
    "- Какое распределение имеет $\\bar{X}$ по ЦПТ? Если исходное распределение $\\mathcal{N}(5, 2)$. Сгенерировать выборки размером 50 из этого распределения и проверить. (построить распределение средних)"
   ]
  },
  {
   "cell_type": "markdown",
   "metadata": {},
   "source": [
    " $\\bar{X}$ по ЦПТ имеет распределение $\\mathcal{N}(MX, SE^2)$, где $SE^2=\\dfrac{s}{\\sqrt{n}}$ или $SE^2=\\dfrac{\\sigma}{\\sqrt{n}}$"
   ]
  },
  {
   "cell_type": "code",
   "execution_count": 284,
   "metadata": {},
   "outputs": [
    {
     "data": {
      "text/plain": [
       "Text(0.5,0,'$x$')"
      ]
     },
     "execution_count": 284,
     "metadata": {},
     "output_type": "execute_result"
    },
    {
     "data": {
      "image/png": "[encoded data removed]",
      "text/plain": [
       "<Figure size 432x288 with 1 Axes>"
      ]
     },
     "metadata": {
      "needs_background": "light"
     },
     "output_type": "display_data"
    }
   ],
   "source": [
    "norm_rv = sts.norm(5,2)\n",
    "results = []\n",
    "\n",
    "for i in range(10000):\n",
    "    sample = norm_rv.rvs(50)\n",
    "    results.append(sample.mean())\n",
    "    \n",
    "plt.hist(results, density=True, bins=30)\n",
    "plt.ylabel('fraction of samples')\n",
    "plt.xlabel('$x$')"
   ]
  },
  {
   "cell_type": "markdown",
   "metadata": {},
   "source": [
    "- Сгенерируйте выборки так, чтобы ЦПТ не выполнялось (распределение средних не было похоже нормальное)"
   ]
  },
  {
   "cell_type": "code",
   "execution_count": 285,
   "metadata": {},
   "outputs": [
    {
     "data": {
      "text/plain": [
       "Text(0.5,0,'$x$')"
      ]
     },
     "execution_count": 285,
     "metadata": {},
     "output_type": "execute_result"
    },
    {
     "data": {
      "image/png": "[encoded data removed]",
      "text/plain": [
       "<Figure size 864x576 with 1 Axes>"
      ]
     },
     "metadata": {
      "needs_background": "light"
     },
     "output_type": "display_data"
    }
   ],
   "source": [
    "#your code here\n",
    "results = []\n",
    "n = 25\n",
    "expon_rv = sts.expon(3)\n",
    "for i in range(10000):\n",
    "    x = expon_rv.rvs(n)\n",
    "    results.append(x.var())\n",
    "\n",
    "plt.figure(figsize=(12,8))\n",
    "plt.hist(results, density=True, bins=30)\n",
    "plt.ylabel('fraction of samples')\n",
    "plt.xlabel('$x$')"
   ]
  },
  {
   "cell_type": "markdown",
   "metadata": {},
   "source": [
    "- Сделайте z-преобразование для данного распределения"
   ]
  },
  {
   "cell_type": "markdown",
   "metadata": {},
   "source": [
    "Распределение sts.expon(3) имеет сдвиг loc=3 соответствует плотности распределения $f(x) = e^{-(x-3)}$<br>\n",
    "Соответственно $\\lambda = 1$, $\\mu = \\dfrac{1}{\\lambda} + loc$,  $\\sigma = \\dfrac{1}{\\lambda}$<br>\n",
    "Для того, чтобы привести распределение к стандартному виду, нужно передать в pdf функцию аргумент x+3"
   ]
  },
  {
   "cell_type": "code",
   "execution_count": 286,
   "metadata": {},
   "outputs": [
    {
     "data": {
      "text/plain": [
       "Text(0.5,0,'$x$')"
      ]
     },
     "execution_count": 286,
     "metadata": {},
     "output_type": "execute_result"
    },
    {
     "data": {
      "image/png": "[encoded data removed]",
      "text/plain": [
       "<Figure size 432x288 with 1 Axes>"
      ]
     },
     "metadata": {
      "needs_background": "light"
     },
     "output_type": "display_data"
    }
   ],
   "source": [
    "expon_rv = sts.expon(3)\n",
    "x = np.linspace(-1, 10, 111)\n",
    "expon_pdf_1 = expon_rv.pdf(x)\n",
    "expon_pdf_2 = expon_rv.pdf(x+3)\n",
    "\n",
    "plt.plot(x, expon_pdf_1)\n",
    "plt.plot(x, expon_pdf_2)\n",
    "\n",
    "plt.title('Плотность распределения (экспоненциальное распределение)')\n",
    "plt.legend(['$\\lambda$=1, loc=3',  '$\\lambda$=1, loc=0'])\n",
    "plt.ylabel('$f(x)$')\n",
    "plt.xlabel('$x$')"
   ]
  },
  {
   "cell_type": "markdown",
   "metadata": {},
   "source": [
    "Для случая sts.expon(loc=3,scale=3) распределение имеет сдвиг loc=3 и $\\lambda = \\dfrac{1}{scale}$ соответствует плотности распределения $f(x) = \\dfrac{1}{scale}\\cdot e^{-\\dfrac{x-loc}{scale}}$<br>\n",
    "Соответственно $\\lambda = 1$, $\\mu = \\dfrac{1}{\\lambda} + loc$,  $\\sigma = \\dfrac{1}{\\lambda}$<br>\n",
    "Для того, чтобы привести распределение к стандартному виду, нужно передать в pdf функцию аргумент 3*x+3 и умножить ее на 3"
   ]
  },
  {
   "cell_type": "code",
   "execution_count": 287,
   "metadata": {},
   "outputs": [
    {
     "data": {
      "text/plain": [
       "Text(0.5,0,'$x$')"
      ]
     },
     "execution_count": 287,
     "metadata": {},
     "output_type": "execute_result"
    },
    {
     "data": {
      "image/png": "[encoded data removed]",
      "text/plain": [
       "<Figure size 432x288 with 1 Axes>"
      ]
     },
     "metadata": {
      "needs_background": "light"
     },
     "output_type": "display_data"
    }
   ],
   "source": [
    "expon_rv_2 = sts.expon(loc=3,scale=3)\n",
    "\n",
    "expon_pdf_3 = expon_rv_2.pdf(x)\n",
    "expon_pdf_4 = expon_rv_2.pdf(3*x+3)*3\n",
    "\n",
    "plt.plot(x, expon_pdf_3)\n",
    "plt.plot(x, expon_pdf_4)\n",
    "\n",
    "plt.title('Плотность распределения (экспоненциальное распределение)')\n",
    "plt.legend(['$\\lambda$=1/3, loc=3',  '$\\lambda$=1, loc=0'])\n",
    "plt.ylabel('$f(x)$')\n",
    "plt.xlabel('$x$')"
   ]
  },
  {
   "cell_type": "code",
   "execution_count": null,
   "metadata": {},
   "outputs": [],
   "source": []
  },
  {
   "cell_type": "markdown",
   "metadata": {},
   "source": [
    "## Доверительные интервалы и гипотезы"
   ]
  },
  {
   "cell_type": "markdown",
   "metadata": {},
   "source": [
    "В данных задачах используйте встроенную функцию, позволяющую искать квантили случайной величины **your_rv**.ppf, а также https://gallery.shinyapps.io/dist_calc/ для визуальной картины"
   ]
  },
  {
   "cell_type": "markdown",
   "metadata": {},
   "source": [
    "- Постройте 90% доверительный интервал для среднего значения $\\mathcal{\\chi^2_{10}}$."
   ]
  },
  {
   "cell_type": "code",
   "execution_count": 288,
   "metadata": {},
   "outputs": [
    {
     "name": "stdout",
     "output_type": "stream",
     "text": [
      "z = 1.95996\n",
      "sampling_mean = 9.99372\n",
      "SE = 0.53542\n"
     ]
    }
   ],
   "source": [
    "chi2_rv = sts.chi2(df=10)\n",
    "n = 50\n",
    "sample = chi2_rv.rvs(50)\n",
    "mean = sample.mean()\n",
    "z = sts.norm.ppf(1-0.05/2)\n",
    "SE = (sample.var(ddof=1)/n)**0.5\n",
    "print(f'z = {z:.5f}')\n",
    "print(f'sampling_mean = {mean:.5f}')\n",
    "print(f'SE = {SE:.5f}')"
   ]
  },
  {
   "cell_type": "code",
   "execution_count": 289,
   "metadata": {},
   "outputs": [
    {
     "name": "stdout",
     "output_type": "stream",
     "text": [
      "Доверительный интервал 95% для среднего значения: (8.94432, 11.04313)\n"
     ]
    }
   ],
   "source": [
    "print(f'Доверительный интервал 95% для среднего значения: (\\\n",
    "{(mean-z*SE):.5f}, {(mean+z*SE):.5f})')"
   ]
  },
  {
   "cell_type": "code",
   "execution_count": null,
   "metadata": {},
   "outputs": [],
   "source": []
  },
  {
   "cell_type": "markdown",
   "metadata": {},
   "source": [
    "- Постройте ДИ для распределения Стьюдента с df = 15 уровня доверия 90%  и 95%. Какой интервал шире?"
   ]
  },
  {
   "cell_type": "code",
   "execution_count": 290,
   "metadata": {},
   "outputs": [
    {
     "name": "stdout",
     "output_type": "stream",
     "text": [
      "для 90% t = 1.75305\n",
      "для 95% t = 2.13145\n"
     ]
    }
   ],
   "source": [
    "t_rv = sts.t(df=15)\n",
    "\n",
    "t90 = t_rv.ppf(1-0.1/2)\n",
    "t95 = t_rv.ppf(1-0.05/2)\n",
    "n = 16\n",
    "\n",
    "print(f'для 90% t = {t90:.5f}')\n",
    "print(f'для 95% t = {t95:.5f}')"
   ]
  },
  {
   "cell_type": "code",
   "execution_count": 291,
   "metadata": {},
   "outputs": [
    {
     "name": "stdout",
     "output_type": "stream",
     "text": [
      "mean = 0.05483\n",
      "SE = 0.30973\n"
     ]
    }
   ],
   "source": [
    "sample = t_rv.rvs(n)\n",
    "mean = sample.mean()\n",
    "SE = (sample.var(ddof=1)/n)**0.5\n",
    "print(f'mean = {mean:.5f}')\n",
    "print(f'SE = {SE:.5f}')"
   ]
  },
  {
   "cell_type": "code",
   "execution_count": 292,
   "metadata": {},
   "outputs": [
    {
     "name": "stdout",
     "output_type": "stream",
     "text": [
      "Доверительный интервал 90% для среднего значения: (-0.48814, 0.59781)\n",
      "Доверительный интервал 95% для среднего значения: (-0.60534, 0.71501)\n"
     ]
    }
   ],
   "source": [
    "print(f'Доверительный интервал 90% для среднего значения: (\\\n",
    "{(mean-t90*SE):.5f}, {(mean+t90*SE):.5f})')\n",
    "print(f'Доверительный интервал 95% для среднего значения: (\\\n",
    "{(mean-t95*SE):.5f}, {(mean+t95*SE):.5f})')"
   ]
  },
  {
   "cell_type": "markdown",
   "metadata": {},
   "source": [
    "Доверительный интервал 95% - шире, т.к. содержит большее количество значений."
   ]
  },
  {
   "cell_type": "code",
   "execution_count": null,
   "metadata": {},
   "outputs": [],
   "source": []
  },
  {
   "cell_type": "markdown",
   "metadata": {},
   "source": [
    "- Сгенерируйте 2 выборки с одинаковыми параметрами, отличающиеся в 2 раза по размеру. Постройте 2 90% ДИ. Чем они отличаются? Распределение $\\mathcal{N}(0,2)$ "
   ]
  },
  {
   "cell_type": "code",
   "execution_count": 293,
   "metadata": {},
   "outputs": [
    {
     "name": "stdout",
     "output_type": "stream",
     "text": [
      "mean_1 = -0.11088\n",
      "mean_2 = 0.31310\n",
      "SE_1 = 0.30378\n",
      "SE_2 = 0.20389\n",
      "z = 1.64485\n"
     ]
    }
   ],
   "source": [
    "norm_rv = sts.norm(0, 2)\n",
    "z = sts.norm.ppf(1-0.1/2)\n",
    "n1 = 50\n",
    "n2 = 100\n",
    "sample_1 = norm_rv.rvs(n1)\n",
    "sample_2 = norm_rv.rvs(n2)\n",
    "mean_1 = sample_1.mean()\n",
    "mean_2 = sample_2.mean()\n",
    "SE_1 = (sample_1.var(ddof=1)/n1)**0.5\n",
    "SE_2 = (sample_2.var(ddof=1)/n2)**0.5\n",
    "#your code here\n",
    "print(f'mean_1 = {mean_1:.5f}\\nmean_2 = {mean_2:.5f}')\n",
    "print(f'SE_1 = {SE_1:.5f}\\nSE_2 = {SE_2:.5f}\\nz = {z:.5f}')\n"
   ]
  },
  {
   "cell_type": "code",
   "execution_count": 294,
   "metadata": {},
   "outputs": [
    {
     "name": "stdout",
     "output_type": "stream",
     "text": [
      "Доверительный интервал 90% выборки объемом 50: (-0.61056, 0.38879)\n",
      "\n",
      "Доверительный интервал 90% выборки объемом 100: (-0.02227, 0.64847)\n"
     ]
    }
   ],
   "source": [
    "print(f'Доверительный интервал 90% выборки объемом 50: ({mean_1-z*SE_1:.5f}, {mean_1+z*SE_1:.5f})\\n')\n",
    "print(f'Доверительный интервал 90% выборки объемом 100: ({mean_2-z*SE_2:.5f}, {mean_2+z*SE_2:.5f})')"
   ]
  },
  {
   "cell_type": "markdown",
   "metadata": {},
   "source": [
    "Доверительный интервал большей выборки - уже, т.к. за счет большего количества элементов существенной уменьшается стандартная ошибка средних. Также интервал у большей выборки более симметричен относительно 0. Т.к., чем больше количество элементов в выборке, тем лучше выборочное среднее приближает мат. ожидание генеральной совокупности."
   ]
  },
  {
   "cell_type": "code",
   "execution_count": null,
   "metadata": {},
   "outputs": [],
   "source": []
  },
  {
   "cell_type": "markdown",
   "metadata": {},
   "source": [
    "- Пусть $H_0: M=100$. Мы получили $p = 0,12$ и не смогли отклонить нулевую гипотезу. Однако позже выяснилось, что среднее в генеральной совокупности равняется 114. Ошибку какого рода мы допустили?"
   ]
  },
  {
   "cell_type": "markdown",
   "metadata": {},
   "source": [
    "Ошибка второго рода - приняли неверную гипотезу."
   ]
  },
  {
   "cell_type": "code",
   "execution_count": null,
   "metadata": {},
   "outputs": [],
   "source": []
  },
  {
   "cell_type": "markdown",
   "metadata": {},
   "source": [
    "#### Какие рассуждения относительно p-value верные?\n",
    "\n",
    "- Если p уровень значимости равен 0,003, то вероятность того, что верна нулевая гипотеза также равняется  0,003.\n",
    "- Если бы в исследовании мы получили $p=0,9$, это означало бы, что верна нулевая гипотеза.\n",
    "- Чем меньше p уровень значимости, тем сильнее получаемые различия.\n"
   ]
  },
  {
   "cell_type": "markdown",
   "metadata": {},
   "source": [
    "1) Неверно. Уровень значимости p = 0,003 означает, что при условии, что гипотеза $H_0$ верна: нет различий c генеральной совокупностью. Вероятность получить такие же или большие различия случайно составляет 0,003.<br>\n",
    "2) Вернее сказать, что нет оснований отвергать гипотезу $H_0$.<br>\n",
    "3) Из $p_2 > p_1$ не следует, что гипотеза с $p_2$ вероятнее, чем с $p_1$."
   ]
  },
  {
   "cell_type": "code",
   "execution_count": null,
   "metadata": {},
   "outputs": [],
   "source": []
  },
  {
   "cell_type": "markdown",
   "metadata": {},
   "source": [
    "- Какое $p$-value будете использовать, если отклонять $H_0$ рисковано: $0.05$ или $0.01$? Является ли 99\\% доверительный интервал хорошей оценкой в общем случае?"
   ]
  },
  {
   "cell_type": "markdown",
   "metadata": {},
   "source": [
    "В данном случае следует использовать $p$-value = 0.01, т.к. в этом случае интервал принятия гипотезы $H_0$ будет шире. В общем случае, так делать не стоит, т.к. увеличивается вероятность ошибки II-го рода (принятие неправильной гипотезы)."
   ]
  },
  {
   "cell_type": "markdown",
   "metadata": {},
   "source": [
    "## Стьюдент и корреляция"
   ]
  },
  {
   "cell_type": "markdown",
   "metadata": {},
   "source": [
    "- Изобразите графики плотности распределения Стьюдента для нескольких значений df= (5,10, 20, 40) и $\\mathcal{N}(0,1)$. В чем отличия?"
   ]
  },
  {
   "cell_type": "markdown",
   "metadata": {},
   "source": [
    "При увеличении числа степеней свободы, распределение Стьюдента стремится к стандартному нормальному распределению. Отличие соостоит в том, что чем меньше число степеней свободы, тем выше хвосты у распределения\n",
    "стьюдента (т.к. выше дисперсия) и ниже экстремум."
   ]
  },
  {
   "cell_type": "code",
   "execution_count": 295,
   "metadata": {},
   "outputs": [
    {
     "data": {
      "text/plain": [
       "Text(0.5,0,'$x$')"
      ]
     },
     "execution_count": 295,
     "metadata": {},
     "output_type": "execute_result"
    },
    {
     "data": {
      "image/png": "[encoded data removed]",
      "text/plain": [
       "<Figure size 1152x1152 with 1 Axes>"
      ]
     },
     "metadata": {
      "needs_background": "light"
     },
     "output_type": "display_data"
    }
   ],
   "source": [
    "norm_rv = sts.norm(0, 1)\n",
    "t_rv_1 = sts.t(df = 5)\n",
    "t_rv_2 = sts.t(df = 10)\n",
    "t_rv_3 = sts.t(df = 20)\n",
    "t_rv_4 = sts.t(df = 40)\n",
    "\n",
    "x = np.linspace(-5, 5, 101)\n",
    "\n",
    "norm_pdf = norm_rv.pdf(x)\n",
    "t_pdf_1 = t_rv_1.pdf(x)\n",
    "t_pdf_2 = t_rv_2.pdf(x)\n",
    "t_pdf_3 = t_rv_3.pdf(x)\n",
    "t_pdf_4 = t_rv_4.pdf(x)\n",
    "\n",
    "plt.figure(figsize=(16,16))\n",
    "plt.plot(x, norm_pdf)\n",
    "plt.plot(x, t_pdf_1)\n",
    "plt.plot(x, t_pdf_2)\n",
    "plt.plot(x, t_pdf_3)\n",
    "plt.plot(x, t_pdf_4)\n",
    "\n",
    "plt.title('Плотность распределения')\n",
    "plt.legend(['$\\mathcal{N}(0,1)$', 't(df=5)',  't(df=10)', 't(df=20)', 't(df=40)'])\n",
    "plt.ylabel('$f(x)$')\n",
    "plt.xlabel('$x$')"
   ]
  },
  {
   "cell_type": "markdown",
   "metadata": {},
   "source": [
    "- Постройте две выборки, чтобы их корреляция была равна -1. Изобразите зависимость на графике."
   ]
  },
  {
   "cell_type": "code",
   "execution_count": 296,
   "metadata": {},
   "outputs": [
    {
     "data": {
      "text/html": [
       "<div>\n",
       "<style scoped>\n",
       "    .dataframe tbody tr th:only-of-type {\n",
       "        vertical-align: middle;\n",
       "    }\n",
       "\n",
       "    .dataframe tbody tr th {\n",
       "        vertical-align: top;\n",
       "    }\n",
       "\n",
       "    .dataframe thead th {\n",
       "        text-align: right;\n",
       "    }\n",
       "</style>\n",
       "<table border=\"1\" class=\"dataframe\">\n",
       "  <thead>\n",
       "    <tr style=\"text-align: right;\">\n",
       "      <th></th>\n",
       "      <th>a</th>\n",
       "      <th>b</th>\n",
       "    </tr>\n",
       "  </thead>\n",
       "  <tbody>\n",
       "    <tr>\n",
       "      <th>0</th>\n",
       "      <td>0.00</td>\n",
       "      <td>1000</td>\n",
       "    </tr>\n",
       "    <tr>\n",
       "      <th>1</th>\n",
       "      <td>0.01</td>\n",
       "      <td>999</td>\n",
       "    </tr>\n",
       "    <tr>\n",
       "      <th>2</th>\n",
       "      <td>0.02</td>\n",
       "      <td>998</td>\n",
       "    </tr>\n",
       "    <tr>\n",
       "      <th>3</th>\n",
       "      <td>0.03</td>\n",
       "      <td>997</td>\n",
       "    </tr>\n",
       "    <tr>\n",
       "      <th>4</th>\n",
       "      <td>0.04</td>\n",
       "      <td>996</td>\n",
       "    </tr>\n",
       "  </tbody>\n",
       "</table>\n",
       "</div>"
      ],
      "text/plain": [
       "      a     b\n",
       "0  0.00  1000\n",
       "1  0.01   999\n",
       "2  0.02   998\n",
       "3  0.03   997\n",
       "4  0.04   996"
      ]
     },
     "execution_count": 296,
     "metadata": {},
     "output_type": "execute_result"
    }
   ],
   "source": [
    "df = pd.DataFrame({'a': np.linspace(0, 10, 1001), 'b': [i for i in range(1001)[::-1]]})\n",
    "df.head()"
   ]
  },
  {
   "cell_type": "code",
   "execution_count": 297,
   "metadata": {},
   "outputs": [
    {
     "data": {
      "text/plain": [
       "<seaborn.axisgrid.PairGrid at 0x7f154dbf65c0>"
      ]
     },
     "execution_count": 297,
     "metadata": {},
     "output_type": "execute_result"
    },
    {
     "data": {
      "image/png": "[encoded data removed]",
      "text/plain": [
       "<Figure size 360x360 with 6 Axes>"
      ]
     },
     "metadata": {
      "needs_background": "light"
     },
     "output_type": "display_data"
    }
   ],
   "source": [
    "sns.pairplot(df, vars=['a', 'b',],\n",
    "                 kind='scatter')  "
   ]
  },
  {
   "cell_type": "code",
   "execution_count": 298,
   "metadata": {},
   "outputs": [
    {
     "data": {
      "text/html": [
       "<div>\n",
       "<style scoped>\n",
       "    .dataframe tbody tr th:only-of-type {\n",
       "        vertical-align: middle;\n",
       "    }\n",
       "\n",
       "    .dataframe tbody tr th {\n",
       "        vertical-align: top;\n",
       "    }\n",
       "\n",
       "    .dataframe thead th {\n",
       "        text-align: right;\n",
       "    }\n",
       "</style>\n",
       "<table border=\"1\" class=\"dataframe\">\n",
       "  <thead>\n",
       "    <tr style=\"text-align: right;\">\n",
       "      <th></th>\n",
       "      <th>a</th>\n",
       "      <th>b</th>\n",
       "    </tr>\n",
       "  </thead>\n",
       "  <tbody>\n",
       "    <tr>\n",
       "      <th>a</th>\n",
       "      <td>1.0</td>\n",
       "      <td>-1.0</td>\n",
       "    </tr>\n",
       "    <tr>\n",
       "      <th>b</th>\n",
       "      <td>-1.0</td>\n",
       "      <td>1.0</td>\n",
       "    </tr>\n",
       "  </tbody>\n",
       "</table>\n",
       "</div>"
      ],
      "text/plain": [
       "     a    b\n",
       "a  1.0 -1.0\n",
       "b -1.0  1.0"
      ]
     },
     "execution_count": 298,
     "metadata": {},
     "output_type": "execute_result"
    }
   ],
   "source": [
    "corr = df.corr()\n",
    "corr"
   ]
  },
  {
   "cell_type": "code",
   "execution_count": 299,
   "metadata": {},
   "outputs": [
    {
     "data": {
      "text/plain": [
       "<matplotlib.axes._subplots.AxesSubplot at 0x7f154d65c780>"
      ]
     },
     "execution_count": 299,
     "metadata": {},
     "output_type": "execute_result"
    },
    {
     "data": {
      "image/png": "[encoded data removed]",
      "text/plain": [
       "<Figure size 432x288 with 2 Axes>"
      ]
     },
     "metadata": {
      "needs_background": "light"
     },
     "output_type": "display_data"
    }
   ],
   "source": [
    "sns.heatmap(corr, annot=True,\n",
    "            xticklabels=corr.columns.values,\n",
    "            yticklabels=corr.columns.values)"
   ]
  },
  {
   "cell_type": "code",
   "execution_count": null,
   "metadata": {},
   "outputs": [],
   "source": []
  },
  {
   "cell_type": "markdown",
   "metadata": {},
   "source": [
    "- Постройте две выборки, чтобы их корреляция была равна 0. Изобразите зависимость на графике."
   ]
  },
  {
   "cell_type": "code",
   "execution_count": null,
   "metadata": {},
   "outputs": [],
   "source": []
  },
  {
   "cell_type": "code",
   "execution_count": 300,
   "metadata": {},
   "outputs": [],
   "source": [
    "df = pd.DataFrame({'a': np.cos([i for i in range(1001)]), 'b': np.sin([i for i in range(1001)])})"
   ]
  },
  {
   "cell_type": "code",
   "execution_count": 301,
   "metadata": {},
   "outputs": [
    {
     "data": {
      "text/plain": [
       "<seaborn.axisgrid.PairGrid at 0x7f154d674a90>"
      ]
     },
     "execution_count": 301,
     "metadata": {},
     "output_type": "execute_result"
    },
    {
     "data": {
      "image/png": "[encoded data removed]",
      "text/plain": [
       "<Figure size 360x360 with 6 Axes>"
      ]
     },
     "metadata": {
      "needs_background": "light"
     },
     "output_type": "display_data"
    }
   ],
   "source": [
    "sns.pairplot(df, vars=['a', 'b',],\n",
    "                 kind='scatter') "
   ]
  },
  {
   "cell_type": "code",
   "execution_count": 302,
   "metadata": {},
   "outputs": [
    {
     "data": {
      "text/html": [
       "<div>\n",
       "<style scoped>\n",
       "    .dataframe tbody tr th:only-of-type {\n",
       "        vertical-align: middle;\n",
       "    }\n",
       "\n",
       "    .dataframe tbody tr th {\n",
       "        vertical-align: top;\n",
       "    }\n",
       "\n",
       "    .dataframe thead th {\n",
       "        text-align: right;\n",
       "    }\n",
       "</style>\n",
       "<table border=\"1\" class=\"dataframe\">\n",
       "  <thead>\n",
       "    <tr style=\"text-align: right;\">\n",
       "      <th></th>\n",
       "      <th>a</th>\n",
       "      <th>b</th>\n",
       "    </tr>\n",
       "  </thead>\n",
       "  <tbody>\n",
       "    <tr>\n",
       "      <th>a</th>\n",
       "      <td>1.000000</td>\n",
       "      <td>0.000901</td>\n",
       "    </tr>\n",
       "    <tr>\n",
       "      <th>b</th>\n",
       "      <td>0.000901</td>\n",
       "      <td>1.000000</td>\n",
       "    </tr>\n",
       "  </tbody>\n",
       "</table>\n",
       "</div>"
      ],
      "text/plain": [
       "          a         b\n",
       "a  1.000000  0.000901\n",
       "b  0.000901  1.000000"
      ]
     },
     "execution_count": 302,
     "metadata": {},
     "output_type": "execute_result"
    }
   ],
   "source": [
    "corr = df.corr()\n",
    "corr"
   ]
  },
  {
   "cell_type": "code",
   "execution_count": 303,
   "metadata": {},
   "outputs": [
    {
     "data": {
      "text/plain": [
       "<matplotlib.axes._subplots.AxesSubplot at 0x7f154cf2c7f0>"
      ]
     },
     "execution_count": 303,
     "metadata": {},
     "output_type": "execute_result"
    },
    {
     "data": {
      "image/png": "[encoded data removed]",
      "text/plain": [
       "<Figure size 432x288 with 2 Axes>"
      ]
     },
     "metadata": {
      "needs_background": "light"
     },
     "output_type": "display_data"
    }
   ],
   "source": [
    "sns.heatmap(corr, annot=True,\n",
    "            xticklabels=corr.columns.values,\n",
    "            yticklabels=corr.columns.values)"
   ]
  },
  {
   "cell_type": "code",
   "execution_count": null,
   "metadata": {},
   "outputs": [],
   "source": []
  },
  {
   "cell_type": "markdown",
   "metadata": {},
   "source": [
    "- Сгенерируйте 2 выборки из $\\mathcal{N}(4,2)$, посчитайте их общий ранг и сумму рангов в каждой выборке."
   ]
  },
  {
   "cell_type": "code",
   "execution_count": 304,
   "metadata": {},
   "outputs": [
    {
     "name": "stdout",
     "output_type": "stream",
     "text": [
      "Сумма рангов выборки 1: \t10236\n",
      "Сумма рангов выборки 2: \t9664\n",
      "Общий ранг: \t\t\t19900\n"
     ]
    }
   ],
   "source": [
    "norm_rv = sts.norm(4,2)\n",
    "n1 = n2 = 100\n",
    "n = n1 + n2\n",
    "sample_1 = norm_rv.rvs(n1)\n",
    "sample_2 = norm_rv.rvs(n2)\n",
    "sample = np.concatenate((sample_1, sample_2))\n",
    "sample.sort()\n",
    "rank_1 = sum(i for i in range(n) if sample[i] in sample_1)\n",
    "rank_2 = sum(i for i in range(n) if sample[i] in sample_2)\n",
    "rank = rank_1 + rank_2\n",
    "\n",
    "print(f'Сумма рангов выборки 1: \\t{rank_1}')\n",
    "print(f'Сумма рангов выборки 2: \\t{rank_2}')\n",
    "print(f'Общий ранг: \\t\\t\\t{rank}')"
   ]
  },
  {
   "cell_type": "code",
   "execution_count": 305,
   "metadata": {},
   "outputs": [
    {
     "data": {
      "text/plain": [
       "19900.0"
      ]
     },
     "execution_count": 305,
     "metadata": {},
     "output_type": "execute_result"
    }
   ],
   "source": [
    "#проверка\n",
    "n*(n-1)/2"
   ]
  },
  {
   "cell_type": "code",
   "execution_count": null,
   "metadata": {},
   "outputs": [],
   "source": []
  },
  {
   "cell_type": "code",
   "execution_count": null,
   "metadata": {},
   "outputs": [],
   "source": []
  },
  {
   "cell_type": "code",
   "execution_count": null,
   "metadata": {},
   "outputs": [],
   "source": []
  },
  {
   "cell_type": "code",
   "execution_count": null,
   "metadata": {},
   "outputs": [],
   "source": []
  },
  {
   "cell_type": "code",
   "execution_count": null,
   "metadata": {},
   "outputs": [],
   "source": []
  }
 ],
 "metadata": {
  "kernelspec": {
   "display_name": "Python 3",
   "language": "python",
   "name": "python3"
  },
  "language_info": {
   "codemirror_mode": {
    "name": "ipython",
    "version": 3
   },
   "file_extension": ".py",
   "mimetype": "text/x-python",
   "name": "python",
   "nbconvert_exporter": "python",
   "pygments_lexer": "ipython3",
   "version": "3.7.2"
  }
 },
 "nbformat": 4,
 "nbformat_minor": 2
}
